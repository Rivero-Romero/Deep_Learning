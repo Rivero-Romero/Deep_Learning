{
  "nbformat": 4,
  "nbformat_minor": 0,
  "metadata": {
    "colab": {
      "provenance": [],
      "include_colab_link": true
    },
    "kernelspec": {
      "name": "python3",
      "display_name": "Python 3"
    },
    "language_info": {
      "name": "python"
    }
  },
  "cells": [
    {
      "cell_type": "markdown",
      "metadata": {
        "id": "view-in-github",
        "colab_type": "text"
      },
      "source": [
        "<a href=\"https://colab.research.google.com/github/Rivero-Romero/Deep_Learning/blob/main/01_Explocacion%20de%20datos.ipynb\" target=\"_parent\"><img src=\"https://colab.research.google.com/assets/colab-badge.svg\" alt=\"Open In Colab\"/></a>"
      ]
    },
    {
      "cell_type": "code",
      "execution_count": null,
      "metadata": {
        "id": "78mC-d6hDhgc"
      },
      "outputs": [],
      "source": [
        "#Instalar librería de Kaggle\n",
        "!pip install kaggle"
      ]
    },
    {
      "cell_type": "code",
      "source": [
        "# cargar credenciales de kaggle\n",
        "from google.colab import files\n",
        "\n",
        "uploaded = files.upload()"
      ],
      "metadata": {
        "id": "020M3UfFn3vK"
      },
      "execution_count": null,
      "outputs": []
    },
    {
      "cell_type": "code",
      "source": [
        "# Prepararación del entorno de Kaggle\n",
        "!mkdir -p ~/.kaggle\n",
        "!mv kaggle.json ~/.kaggle/\n",
        "!chmod 600 ~/.kaggle/kaggle.json"
      ],
      "metadata": {
        "id": "xnibD1haoKSD"
      },
      "execution_count": null,
      "outputs": []
    },
    {
      "cell_type": "code",
      "source": [
        "# Descargar Dataset\n",
        "!kaggle datasets download -d kaustubhb999/tomatoleaf"
      ],
      "metadata": {
        "id": "WMFg3UZdoTDt"
      },
      "execution_count": null,
      "outputs": []
    },
    {
      "cell_type": "code",
      "source": [
        "!unzip tomatoleaf.zip"
      ],
      "metadata": {
        "id": "2ewQ-egOoYCW"
      },
      "execution_count": null,
      "outputs": []
    },
    {
      "cell_type": "code",
      "source": [
        "#Explorar la estructura de los directorios\n",
        "import os\n",
        "import pandas as pd\n",
        "\n",
        "train_dir = \"/content/tomato/train\"\n",
        "\n",
        "classes_train = os.listdir(train_dir)\n",
        "\n",
        "data = []\n",
        "# Contar imágenes por clase\n",
        "for clase in classes_train:\n",
        "    clase_path = os.path.join(train_dir, clase)\n",
        "    num_images = len(os.listdir(clase_path))\n",
        "    data.append({'Clase': clase, 'Número de imágenes': num_images})\n",
        "\n",
        "# Crear un DataFrame con pandas\n",
        "df = pd.DataFrame(data)\n",
        "# Mostrar el DataFrame\n",
        "print(df)\n",
        "\n",
        "df.to_csv(\"resumen_entrenamiento.csv\", index=False)"
      ],
      "metadata": {
        "id": "b8kKEeb_odNx"
      },
      "execution_count": null,
      "outputs": []
    },
    {
      "cell_type": "code",
      "source": [
        "#Ver muestras de las imágenes\n",
        "from tensorflow.keras.preprocessing.image import ImageDataGenerator\n",
        "import matplotlib.pyplot as plt\n",
        "import numpy as np\n",
        "\n",
        "# Crear el generador de datos de entrenamiento\n",
        "datagen = ImageDataGenerator(rescale=1.0/255)\n",
        "train_generator = datagen.flow_from_directory(\n",
        "    '/content/tomato/train',\n",
        "    target_size=(150, 150),\n",
        "    batch_size=32,\n",
        "    class_mode='categorical'\n",
        ")\n",
        "\n",
        "# Obtener los índices de las clases y asignarles etiquetas legibles\n",
        "class_indices = train_generator.class_indices  # Diccionario: {clase: índice}\n",
        "class_labels = {v: k for k, v in class_indices.items()}  # Invertir el diccionario\n",
        "\n",
        "plt.figure(figsize=(20, 20))\n",
        "\n",
        "# Conjunto para rastrear las clases ya visitadas\n",
        "visited_classes = set()\n",
        "\n",
        "# Iterar a través del generador para extraer imágenes y etiquetas\n",
        "for images, labels in train_generator:\n",
        "    for i in range(len(labels)):\n",
        "        label_index = np.argmax(labels[i])\n",
        "        if label_index not in visited_classes:\n",
        "            # Mostrar la imagen con su respectiva etiqueta\n",
        "            plt.subplot(5, 5, len(visited_classes) + 1)\n",
        "            plt.imshow(images[i])\n",
        "            plt.title(class_labels[label_index])\n",
        "            plt.axis('off')\n",
        "            visited_classes.add(label_index)\n",
        "        if len(visited_classes) == len(class_labels):\n",
        "            break\n",
        "    if len(visited_classes) == len(class_labels):\n",
        "        break\n",
        "\n",
        "# Mostrar las imágenes con etiquetas\n",
        "plt.tight_layout()\n",
        "plt.show()\n",
        "\n",
        "\n"
      ],
      "metadata": {
        "id": "12L9BUS8oqJ7"
      },
      "execution_count": null,
      "outputs": []
    },
    {
      "cell_type": "code",
      "source": [
        "#Distribución de las clases\n",
        "from collections import Counter\n",
        "import matplotlib.pyplot as plt\n",
        "\n",
        "# Definir las rutas de las carpetas de entrenamiento y validación\n",
        "train_dir = '/content/tomato/train'\n",
        "val_dir = '/content/tomato/val'\n",
        "# Contar imágenes por clase\n",
        "train_counts = {clase: len(os.listdir(os.path.join(train_dir, clase))) for clase in classes_train}\n",
        "val_counts = {clase: len(os.listdir(os.path.join(val_dir, clase))) for clase in classes_train}\n",
        "\n",
        "# Mostrar la distribución\n",
        "print(\"Distribución en entrenamiento:\")\n",
        "print(train_counts)\n",
        "\n",
        "print(\"Distribución en validación:\")\n",
        "print(val_counts)\n",
        "\n",
        "# Crear la gráfica\n",
        "plt.figure(figsize=(12, 6))\n",
        "\n",
        "# Graficar la distribución de imágenes en entrenamiento y validación\n",
        "bar_width = 0.4\n",
        "index = range(len(train_counts))\n",
        "\n",
        "plt.bar(index, train_counts.values(), width=bar_width, color='blue', label='Entrenamiento', align='center')\n",
        "plt.bar([i + bar_width for i in index], val_counts.values(), width=bar_width, color='orange', label='Validación', align='center', alpha=0.7)\n",
        "\n",
        "# Etiquetas de los ejes y título\n",
        "plt.xticks([i + bar_width / 2 for i in index], train_counts.keys(), rotation=45, ha=\"right\")\n",
        "plt.title(\"Distribución de clases en Entrenamiento y Validación\")\n",
        "plt.xlabel(\"Clases\")\n",
        "plt.ylabel(\"Número de imágenes\")\n",
        "\n",
        "# Agregar leyenda\n",
        "plt.legend()\n",
        "\n",
        "# Ajustar el layout y mostrar la gráfica\n",
        "plt.tight_layout()\n",
        "plt.show()\n",
        "\n",
        "\n"
      ],
      "metadata": {
        "id": "f56CSrtFoz-p"
      },
      "execution_count": null,
      "outputs": []
    },
    {
      "cell_type": "code",
      "source": [
        "#Analizar las dimensiones y formatos de las imágenes\n",
        "\n",
        "from PIL import Image\n",
        "\n",
        "def check_image_properties(image_dir):\n",
        "    sizes = []\n",
        "    formats = []\n",
        "    for root, dirs, files in os.walk(image_dir):\n",
        "        for file in files:\n",
        "            img_path = os.path.join(root, file)\n",
        "            try:\n",
        "                with Image.open(img_path) as img:\n",
        "                    sizes.append(img.size)\n",
        "                    formats.append(img.format)\n",
        "            except Exception as e:\n",
        "                print(f\"Error con la imagen {img_path}: {e}\")\n",
        "\n",
        "    print(\"Tamaños de las imágenes:\", Counter(sizes))\n",
        "    print(\"Formatos de las imágenes:\", Counter(formats))\n",
        "\n",
        "# Revisar datos de entrenamiento\n",
        "check_image_properties(train_dir)\n"
      ],
      "metadata": {
        "id": "YTEu01yaqTsZ"
      },
      "execution_count": null,
      "outputs": []
    },
    {
      "cell_type": "code",
      "source": [
        "#Verificar aumentación de datos\n",
        "from tensorflow.keras.preprocessing.image import ImageDataGenerator\n",
        "\n",
        "datagen = ImageDataGenerator(rotation_range=40,\n",
        "                             width_shift_range=0.2,\n",
        "                             height_shift_range=0.2,\n",
        "                             shear_range=0.2,\n",
        "                             zoom_range=0.2,\n",
        "                             horizontal_flip=True,\n",
        "                             rescale=1./255)\n",
        "\n",
        "# Seleccionar una imagen de ejemplo\n",
        "img_path = os.path.join(example_class, example_images[0])\n",
        "img = load_img(img_path, target_size=(128, 128))\n",
        "img_array = img_to_array(img)\n",
        "img_array = img_array.reshape((1,) + img_array.shape)\n",
        "\n",
        "# Generar 5 imágenes aumentadas\n",
        "plt.figure(figsize=(10, 10))\n",
        "i = 0\n",
        "for batch in datagen.flow(img_array, batch_size=1):\n",
        "    plt.subplot(1, 5, i + 1)\n",
        "    plt.imshow(batch[0])\n",
        "    plt.axis('off')\n",
        "    i += 1\n",
        "    if i == 5:  # Generar solo 5 imágenes\n",
        "        break\n",
        "plt.show()\n"
      ],
      "metadata": {
        "id": "Fcxi2Pm5psNf"
      },
      "execution_count": null,
      "outputs": []
    },
    {
      "cell_type": "code",
      "source": [
        "#Estadística básica\n",
        "# Número total de imágenes\n",
        "num_train = sum(train_counts.values())\n",
        "num_val = sum(val_counts.values())\n",
        "\n",
        "print(f\"Número total de imágenes de entrenamiento: {num_train}\")\n",
        "print(f\"Número total de imágenes de validación: {num_val}\")\n",
        "print(f\"Proporción entrenamiento-validación: {num_train / num_val:.2f}\")\n"
      ],
      "metadata": {
        "id": "TzYzvdYSqIbR"
      },
      "execution_count": null,
      "outputs": []
    }
  ]
}