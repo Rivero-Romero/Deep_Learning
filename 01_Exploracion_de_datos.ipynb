{
  "nbformat": 4,
  "nbformat_minor": 0,
  "metadata": {
    "colab": {
      "provenance": [],
      "include_colab_link": true
    },
    "kernelspec": {
      "name": "python3",
      "display_name": "Python 3"
    },
    "language_info": {
      "name": "python"
    }
  },
  "cells": [
    {
      "cell_type": "markdown",
      "metadata": {
        "id": "view-in-github",
        "colab_type": "text"
      },
      "source": [
        "<a href=\"https://colab.research.google.com/github/Rivero-Romero/Deep_Learning/blob/main/01_Exploracion_de_datos.ipynb\" target=\"_parent\"><img src=\"https://colab.research.google.com/assets/colab-badge.svg\" alt=\"Open In Colab\"/></a>"
      ]
    },
    {
      "cell_type": "code",
      "execution_count": null,
      "metadata": {
        "id": "0ET7mdLJEPMd"
      },
      "outputs": [],
      "source": [
        "# Install kaggle library\n",
        "!pip install kaggle"
      ]
    },
    {
      "cell_type": "code",
      "source": [
        "# Upload kaggle credential\n",
        "from google.colab import files\n",
        "\n",
        "uploaded = files.upload()\n"
      ],
      "metadata": {
        "id": "chEwBhQwEfEj"
      },
      "execution_count": null,
      "outputs": []
    },
    {
      "cell_type": "code",
      "source": [
        "# Prepare kaggle environment\n",
        "!mkdir -p ~/.kaggle\n",
        "!mv kaggle.json ~/.kaggle/\n",
        "!chmod 600 ~/.kaggle/kaggle.json"
      ],
      "metadata": {
        "id": "Bz6XfQIzJz--"
      },
      "execution_count": null,
      "outputs": []
    },
    {
      "cell_type": "code",
      "source": [
        "# Download dataset\n",
        "!kaggle datasets download -d kaustubhb999/tomatoleaf"
      ],
      "metadata": {
        "id": "VJhfUTNhKwW4"
      },
      "execution_count": null,
      "outputs": []
    },
    {
      "cell_type": "code",
      "source": [
        "!unzip tomatoleaf.zip"
      ],
      "metadata": {
        "id": "N0dNRt0LjX_Y"
      },
      "execution_count": null,
      "outputs": []
    },
    {
      "cell_type": "code",
      "source": [
        "!ls /content/"
      ],
      "metadata": {
        "id": "nBUDKAOZrQLM"
      },
      "execution_count": null,
      "outputs": []
    },
    {
      "cell_type": "code",
      "source": [
        "!unzip /content/tomatoleaf.zip -d /content/tomatoleaf"
      ],
      "metadata": {
        "id": "oJZSSh5QrqtA"
      },
      "execution_count": null,
      "outputs": []
    },
    {
      "cell_type": "code",
      "source": [
        "!ls /content/tomatoleaf"
      ],
      "metadata": {
        "id": "Bk5XSe6xrwUy"
      },
      "execution_count": null,
      "outputs": []
    },
    {
      "cell_type": "code",
      "source": [
        "import os\n",
        "import pandas as pd\n",
        "\n",
        "base_path = \"/content/tomatoleaf/tomato/train\"\n",
        "\n",
        "# Getting categories from folder\n",
        "categories = [f\"{base_path}/{folder}\" for folder in os.listdir(base_path) if os.path.isdir(f\"{base_path}/{folder}\")]\n",
        "\n",
        "# Getting raw data from folder path\n",
        "rows = []\n",
        "\n",
        "for category in categories:\n",
        "  images_path = [f\"{category}/{file}\" for file in os.listdir(category)]\n",
        "\n",
        "  for image_path in images_path:\n",
        "    rows.append([category.split(\"/\")[-1], image_path])\n",
        "\n",
        "columns = [\"CATEGORY\", \"IMAGE_PATH\"]\n",
        "\n",
        "df = pd.DataFrame(rows, columns=columns)\n",
        "df\n"
      ],
      "metadata": {
        "id": "-IbkRSzvp6hu"
      },
      "execution_count": null,
      "outputs": []
    },
    {
      "cell_type": "code",
      "source": [
        "# Getting basic statistic\n",
        "\n",
        "import cv2\n",
        "import numpy as np\n",
        "\n",
        "images_path = df[\"IMAGE_PATH\"].values.tolist()\n",
        "medians_images = []\n",
        "\n",
        "for image_path in images_path:\n",
        "  gray_image = cv2.imread(image_path, 0)\n",
        "  resized_image = cv2.resize(gray_image, (256, 256))\n",
        "  medians_images.append([image_path, np.median(resized_image)])\n",
        "\n",
        "df_medians = pd.DataFrame(medians_images, columns=[\"IMAGE_PATH\", \"MEDIAN\"])\n",
        "df_medians"
      ],
      "metadata": {
        "id": "HoSCHDiTtM2b"
      },
      "execution_count": null,
      "outputs": []
    },
    {
      "cell_type": "code",
      "source": [
        "import matplotlib.pyplot as plt\n",
        "\n",
        "plt.figure(figsize=(10,6))\n",
        "plt.hist(df_medians[\"MEDIAN\"], bins=50, color='skyblue', edgecolor='black')\n",
        "plt.title(\"Distribución de las Median de las Imágenes\")\n",
        "plt.xlabel(\"Mediana de los valores de píxeles\")\n",
        "plt.ylabel(\"Frecuencia\")\n",
        "plt.show()"
      ],
      "metadata": {
        "id": "wta_LhyOtrtD"
      },
      "execution_count": null,
      "outputs": []
    },
    {
      "cell_type": "code",
      "source": [
        "import seaborn as sns\n",
        "\n",
        "plt.figure(figsize=(8,6))\n",
        "sns.boxplot(data=df_medians[\"MEDIAN\"], color='skyblue')\n",
        "plt.title(\"Boxplot de las Median de las Imágenes\")\n",
        "plt.xlabel(\"Mediana de los valores de píxeles\")\n",
        "plt.show()"
      ],
      "metadata": {
        "id": "aOYsjUbEtT0q"
      },
      "execution_count": null,
      "outputs": []
    },
    {
      "cell_type": "code",
      "source": [
        "# Cálculo de los cuartiles y el IQR\n",
        "Q1 = df_medians['MEDIAN'].quantile(0.25)\n",
        "Q3 = df_medians['MEDIAN'].quantile(0.75)\n",
        "IQR = Q3 - Q1\n",
        "\n",
        "# Definir los umbrales para detectar outliers\n",
        "low_limit = Q1 - 1.5 * IQR\n",
        "high_limit = Q3 + 1.5 * IQR\n",
        "\n",
        "print(f\"Quartil 1: {Q1}\")\n",
        "print(f\"Quartil 3: {Q3}\")\n",
        "print(f\"IQR: {IQR}\")\n",
        "print(f\"Criteria filtering low: {low_limit}\")\n",
        "print(f\"Criteria filtering high: {high_limit}\")\n",
        "\n",
        "# Detectar outliers\n",
        "outliers_df = df_medians[ (df_medians['MEDIAN'] < low_limit) | (df_medians['MEDIAN'] > high_limit) ]\n",
        "\n",
        "# Ver los outliers\n",
        "print(\"Outliers detectados:\")\n",
        "print(outliers_df)"
      ],
      "metadata": {
        "id": "hNNU9qffuYsu"
      },
      "execution_count": null,
      "outputs": []
    },
    {
      "cell_type": "code",
      "source": [
        "import pandas as pd\n",
        "import numpy as np\n",
        "import matplotlib.pyplot as plt\n",
        "import cv2\n",
        "\n",
        "# Suponemos que ya tienes el dataframe 'df_medians' con las medianas\n",
        "# Usaremos 'df_medians' para filtrar outliers\n",
        "\n",
        "# Definimos el criterio para detectar outliers\n",
        "CRITERIA = 2\n",
        "\n",
        "# Calcular el rango intercuartílico (IQR)\n",
        "Q1 = df_medians['MEDIAN'].quantile(0.25)\n",
        "Q3 = df_medians['MEDIAN'].quantile(0.75)\n",
        "IQR = Q3 - Q1\n",
        "\n",
        "# Filtrar las imágenes que están fuera del rango intercuartílico\n",
        "filter = (df_medians['MEDIAN'] < Q1 - CRITERIA * IQR) | (df_medians['MEDIAN'] > Q3 + CRITERIA * IQR)\n",
        "filtered_df = df_medians.loc[filter, [\"IMAGE_PATH\"]]\n",
        "\n",
        "# Imprimir el número de outliers encontrados\n",
        "print(f\"There are {len(filtered_df)} outliers\")\n",
        "\n",
        "# Tomamos una muestra aleatoria de 16 imágenes outliers para visualizarlas\n",
        "sample_images = filtered_df.sample(16, random_state=42)[\"IMAGE_PATH\"].values.tolist()\n",
        "\n",
        "# Crear una figura y subgráficas (4x4)\n",
        "fig, axs = plt.subplots(4, 4, figsize=(12, 12))\n",
        "\n",
        "# Iterar sobre las imágenes y mostrarlas en las subgráficas\n",
        "for i, ax in enumerate(axs.flat):\n",
        "    image = cv2.imread(sample_images[i])\n",
        "    img_rgb = cv2.cvtColor(image, cv2.COLOR_BGR2RGB)\n",
        "    ax.imshow(img_rgb)\n",
        "    ax.axis('off')  # Desactivar los ejes para mostrar solo la imagen\n",
        "\n",
        "# Mostrar las imágenes\n",
        "plt.tight_layout()\n",
        "plt.show()\n"
      ],
      "metadata": {
        "id": "eXsj7TYzwG33"
      },
      "execution_count": null,
      "outputs": []
    },
    {
      "cell_type": "code",
      "source": [
        "# Filtrar las imágenes que no son outliers\n",
        "df_filter = pd.merge(df, filtered_df, on='IMAGE_PATH', how='left', indicator=True)\n",
        "\n",
        "# Filtrar solo las filas que están solo en 'df' y no en 'filtered_df'\n",
        "df_filter = df_filter[df_filter['_merge'] == 'left_only']\n",
        "\n",
        "# Mostrar el dataframe resultante\n",
        "df_filter"
      ],
      "metadata": {
        "id": "otgaIMaWwP--"
      },
      "execution_count": null,
      "outputs": []
    },
    {
      "cell_type": "code",
      "source": [
        "import matplotlib.pyplot as plt\n",
        "# Contar las imágenes por categoría\n",
        "value_counts = df_filter['CATEGORY'].value_counts()\n",
        "# Crear el gráfico de barras\n",
        "plt.figure(figsize=(10, 6))  # Ajustar el tamaño del gráfico si es necesario\n",
        "plt.bar(value_counts.index, value_counts.values, color='skyblue')\n",
        "# Personalizar el título y las etiquetas\n",
        "plt.title('Cantidad de Imágenes por Categoría', fontsize=16)\n",
        "plt.xlabel('Categoría', fontsize=14)\n",
        "plt.ylabel('Cantidad de Imágenes', fontsize=14)\n",
        "# Rotar las etiquetas del eje X para mejorar la legibilidad si son largas\n",
        "plt.xticks(rotation=45, ha='right', fontsize=12)\n",
        "# Agregar una cuadrícula para facilitar la lectura\n",
        "plt.grid(axis='y', linestyle='--', alpha=0.7)\n",
        "# Mostrar el gráfico\n",
        "plt.tight_layout()  # Asegura que los elementos no se sobrepongan\n",
        "plt.show()"
      ],
      "metadata": {
        "id": "tpyL-_h_zZTp"
      },
      "execution_count": null,
      "outputs": []
    },
    {
      "cell_type": "code",
      "source": [
        "# Función para clasificar la salud de la planta\n",
        "def check_health(string):\n",
        "    if \"healthy\" in string:  # Verifica si la palabra \"healthy\" está en la categoría\n",
        "        return \"healthy\"\n",
        "    else:\n",
        "        return \"no healthy\"\n",
        "\n",
        "# Crear una nueva columna 'CATEGORY_BIN' en df o df_filter\n",
        "df_transformed = df.copy()  # Usar df o df_filter, dependiendo del que tengas\n",
        "df_transformed[\"CATEGORY_BIN\"] = df_transformed[\"CATEGORY\"].apply(lambda value: check_health(value.lower()))\n",
        "\n",
        "# Ver los primeros registros para verificar la nueva columna\n",
        "print(df_transformed.head())"
      ],
      "metadata": {
        "id": "U2jKtbg51RuU"
      },
      "execution_count": null,
      "outputs": []
    },
    {
      "cell_type": "code",
      "source": [
        "import plotly.express as px\n",
        "\n",
        "# Contar las imágenes en cada categoría binaria\n",
        "category_counts = df_transformed.groupby(\"CATEGORY_BIN\").size().reset_index(name=\"COUNT\")\n",
        "\n",
        "# Crear el gráfico de barras\n",
        "fig = px.bar(category_counts,\n",
        "             x=\"CATEGORY_BIN\",\n",
        "             y=\"COUNT\",\n",
        "             title=\"Distribution of Images by Health Status\",  # Título del gráfico\n",
        "             labels={\"CATEGORY_BIN\": \"Health Status\", \"COUNT\": \"Number of Images\"},  # Etiquetas de los ejes\n",
        "             color=\"CATEGORY_BIN\",  # Usar color para diferenciar las categorías\n",
        "             color_discrete_map={\"healthy\": \"green\", \"no healthy\": \"red\"})  # Colores personalizados para las categorías\n",
        "\n",
        "# Mostrar el gráfico\n",
        "fig.show()\n"
      ],
      "metadata": {
        "id": "lOwifjqQ1pV-"
      },
      "execution_count": null,
      "outputs": []
    },
    {
      "cell_type": "code",
      "source": [
        "# Saving dataframe as csv\n",
        "df_transformed.to_csv(\"transformed_categories.csv\", index=False)"
      ],
      "metadata": {
        "id": "MId-0Pq61y64"
      },
      "execution_count": null,
      "outputs": []
    }
  ]
}